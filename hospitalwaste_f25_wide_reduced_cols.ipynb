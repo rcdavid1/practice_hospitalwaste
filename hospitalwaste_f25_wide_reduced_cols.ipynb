{
  "nbformat": 4,
  "nbformat_minor": 0,
  "metadata": {
    "colab": {
      "provenance": [],
      "include_colab_link": true
    },
    "kernelspec": {
      "name": "python3",
      "display_name": "Python 3"
    },
    "language_info": {
      "name": "python"
    }
  },
  "cells": [
    {
      "cell_type": "markdown",
      "metadata": {
        "id": "view-in-github",
        "colab_type": "text"
      },
      "source": [
        "<a href=\"https://colab.research.google.com/github/rcdavid1/practice_hospitalwaste/blob/main/hospitalwaste_f25_wide_reduced_cols.ipynb\" target=\"_parent\"><img src=\"https://colab.research.google.com/assets/colab-badge.svg\" alt=\"Open In Colab\"/></a>"
      ]
    },
    {
      "cell_type": "markdown",
      "source": [
        "# Preliminaries"
      ],
      "metadata": {
        "id": "oLeVyxOAYGhX"
      }
    },
    {
      "cell_type": "code",
      "source": [
        "! pip install gdown"
      ],
      "metadata": {
        "id": "TqQF6qHSaYQC"
      },
      "execution_count": null,
      "outputs": []
    },
    {
      "cell_type": "code",
      "source": [
        "! wget https://raw.githubusercontent.com/bsheese/225exercises/refs/heads/main/hospital_helper.py"
      ],
      "metadata": {
        "id": "_5ivb1cmIeEu"
      },
      "execution_count": null,
      "outputs": []
    },
    {
      "cell_type": "code",
      "execution_count": null,
      "metadata": {
        "id": "3g1GB2shKP08"
      },
      "outputs": [],
      "source": [
        "import gdown\n",
        "import pandas as pd\n",
        "import seaborn as sns\n",
        "import matplotlib.pyplot as plt\n",
        "import hospital_helper\n",
        "\n",
        "file_id = '1BEs2Fa1qJEYWE-HyE3t63PplMi2IbXc9'\n",
        "output = 'hospital_waste.csv'\n",
        "\n",
        "gdown.download(id=file_id, output=output, quiet=False)\n",
        "\n",
        "df = pd.read_csv(output)\n",
        "df = hospital_helper.clean_variable_names(df)\n",
        "df['date'] = pd.to_datetime(df['date'])\n",
        "df['year'] = df['date'].dt.year\n",
        "df['month'] = df['date'].dt.month\n",
        "df = df.drop(columns = 'unnamed:_0')\n",
        "\n",
        "focal_variables = ['rmw/apd', 'rmw', 'apd']\n",
        "\n",
        "# drop all columns that mention specific vendors, such as stryker, medline, cardinal\n",
        "df = df.loc[:, ~df.columns.str.contains('stryker|medline|cardinal')]\n",
        "\n",
        "# drop all columns that appear to be constants\n",
        "df = df.loc[:, ~df.columns.str.contains('rmw/apd_national_median_\\\\(all\\\\)|day|available_beds_total|batteries')]\n",
        "\n",
        "# df.info(show_counts=True, verbose=True)\n",
        "\n",
        "# address missing values\n",
        "df = hospital_helper.process_missing(df, verbose=False)\n"
      ]
    },
    {
      "cell_type": "markdown",
      "source": [
        "# List of All Columns in Unpivoted Dataset"
      ],
      "metadata": {
        "id": "IJcdeR_JOjms"
      }
    },
    {
      "cell_type": "code",
      "source": [
        "for col in list(df.columns):\n",
        "  print(col)"
      ],
      "metadata": {
        "id": "wRNXTng_0abC"
      },
      "execution_count": null,
      "outputs": []
    },
    {
      "cell_type": "markdown",
      "source": [
        "# Selecting Columns to Keep for Your Analysis\n",
        "* Any variables you want to use should appear somewhere in the lists below.\n",
        "* If you do not see what you want, add a list of variables into the list below."
      ],
      "metadata": {
        "id": "g49gXo3NJxU_"
      }
    },
    {
      "cell_type": "code",
      "source": [
        "# this will find variables for you based on part of their name and put them into a list, that you can use in the next step\n",
        "temp = []\n",
        "\n",
        "for col in df.columns:\n",
        "  if \"eco2\" in col:\n",
        "    temp.append(col)\n",
        "\n",
        "temp"
      ],
      "metadata": {
        "id": "s-VdqUyzdASd"
      },
      "execution_count": null,
      "outputs": []
    },
    {
      "cell_type": "code",
      "source": [
        "# reorganize columns\n",
        "cols_listoflists = [\n",
        "    [# Hospital Identification and Demographics\n",
        "    'hospital',\n",
        "    'hospital_abbreviation',\n",
        "    'city',\n",
        "    'state',\n",
        "    'region',\n",
        "    'eastern_indicator',\n",
        "    'hospital_size',\n",
        "    ],\n",
        "\n",
        "    [# Facility and Operational Metrics\n",
        "    'square_footage',\n",
        "    'cleanable_square_footage',\n",
        "    'payroll_standard_hours_total',\n",
        "    'purchased_labor_hours_total'\n",
        "    ],\n",
        "\n",
        "    [# Regulated Medical Waste (aggregate)\n",
        "    'rmw',\n",
        "    'rmw_autoclave',\n",
        "    'rmw_incineration',\n",
        "    'rmw/apd',\n",
        "    'reusable_sharps',\n",
        "    ],\n",
        "\n",
        "    ['mt_eco2_(autoclave_-_steam_sterilization)',\n",
        "    'mt_eco2_(incineration)',\n",
        "    'mt_eco2_(autoclave_-_etd)',\n",
        "    'mt_eco2_(rmw_+_haz_pharm)',\n",
        "    'mt_eco2_(solid_waste)',\n",
        "    'mt_eco2_(solid_waste_+_rmw_+_haz_pharm)'\n",
        "    ],\n",
        "\n",
        "    [# Other\n",
        "    'hazardous_pharmaceuticals',\n",
        "    'hazardous:_rcra_pharm',\n",
        "    'hazardous',\n",
        "    '5%path/chemo',\n",
        "    'corrected_path/chemo'\n",
        "    ],\n",
        "\n",
        "    [# Recycling\n",
        "    'rcy',\n",
        "    'mixed_recycling',\n",
        "    'recycle_-rd_&_ud',\n",
        "    'recycle_-_rd_+_ud_+_reprocessing',\n",
        "    ],\n",
        "]"
      ],
      "metadata": {
        "id": "A8ikVRUgdr9N"
      },
      "execution_count": null,
      "outputs": []
    },
    {
      "cell_type": "markdown",
      "source": [
        "# Pivot the data using the columns from above"
      ],
      "metadata": {
        "id": "mhpS0XqiLFjk"
      }
    },
    {
      "cell_type": "code",
      "source": [
        "# unpack cols into a flat list\n",
        "flat_list = [item for sublist in cols_listoflists for item in sublist]\n",
        "\n",
        "# massively reduce columns, add columns back by adding name to lists above\n",
        "df = df.loc[:, flat_list]\n",
        "\n",
        "# pivot to shift to wide format using the median function\n",
        "numeric_cols = df.select_dtypes(include='number').columns\n",
        "cols_to_pivot = ['hospital', 'hospital_abbreviation',  'city', 'state', 'region', 'hospital_size'] + list(numeric_cols)\n",
        "df_wide = df[cols_to_pivot].pivot_table(index=['hospital','hospital_abbreviation', 'city', 'state', 'region', 'hospital_size'], aggfunc='median')\n",
        "\n",
        "# Reindex columns to preserve original order of numeric columns\n",
        "df_wide = df_wide[numeric_cols].reset_index()\n",
        "\n",
        "df_wide.head()"
      ],
      "metadata": {
        "id": "p02-N-4XgfG5"
      },
      "execution_count": null,
      "outputs": []
    },
    {
      "cell_type": "markdown",
      "source": [
        "# Examples Using `cols_listoflists` to Speed Up Analysis"
      ],
      "metadata": {
        "id": "ToJYNv4oNE6X"
      }
    },
    {
      "cell_type": "code",
      "source": [
        "for col in cols_listoflists[1:]:\n",
        "  display(df_wide[col].describe().T)\n",
        "  print()"
      ],
      "metadata": {
        "id": "LZdXfLQMfG2R"
      },
      "execution_count": null,
      "outputs": []
    },
    {
      "cell_type": "code",
      "source": [
        "for col in cols_listoflists[1:]:\n",
        "  display(sns.heatmap(df_wide[col].corr(), cmap=\"Blues\", annot=True))\n",
        "  plt.show()\n",
        "  print()"
      ],
      "metadata": {
        "id": "x7OmWuEEfoyN"
      },
      "execution_count": null,
      "outputs": []
    }
  ]
}